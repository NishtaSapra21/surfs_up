{
 "cells": [
  {
   "cell_type": "code",
   "execution_count": 1,
   "metadata": {},
   "outputs": [],
   "source": [
    "# Dependencies\n",
    "import numpy as np\n",
    "import pandas as pd\n",
    "\n",
    "# Python SQL toolkit and Object Relational Mapper\n",
    "import sqlalchemy\n",
    "from sqlalchemy.ext.automap import automap_base\n",
    "from sqlalchemy.orm import Session\n",
    "from sqlalchemy import create_engine, func"
   ]
  },
  {
   "cell_type": "code",
   "execution_count": 2,
   "metadata": {},
   "outputs": [],
   "source": [
    "engine = create_engine(\"sqlite:///hawaii.sqlite\")\n",
    "\n",
    "# reflect an existing database into a new model\n",
    "Base = automap_base()\n",
    "# reflect the tables\n",
    "Base.prepare(engine, reflect=True)\n",
    "\n",
    "# Save references to each table\n",
    "Measurement = Base.classes.measurement\n",
    "Station = Base.classes.station"
   ]
  },
  {
   "cell_type": "code",
   "execution_count": 3,
   "metadata": {},
   "outputs": [],
   "source": [
    "# Create our session (link) from Python to the DB\n",
    "session = Session(engine)"
   ]
  },
  {
   "cell_type": "markdown",
   "metadata": {},
   "source": [
    "## D1: Determine the Summary Statistics for June"
   ]
  },
  {
   "cell_type": "code",
   "execution_count": 4,
   "metadata": {},
   "outputs": [],
   "source": [
    "# 1. Import the sqlalchemy extract function.\n",
    "from sqlalchemy import extract\n",
    "\n",
    "# 2. Write a query that filters the Measurement table to retrieve the temperatures for the month of June. \n",
    "june_results = session.query(Measurement.date, Measurement.tobs).filter(extract('month', Measurement.date) == '6')\n"
   ]
  },
  {
   "cell_type": "code",
   "execution_count": 5,
   "metadata": {},
   "outputs": [],
   "source": [
    "#  3. Convert the June temperatures to a list.\n",
    "\n",
    "june_date = [result[0] for result in june_results]\n",
    "june_temp = [result[1] for result in june_results]\n",
    "#print(june_temp)"
   ]
  },
  {
   "cell_type": "code",
   "execution_count": 6,
   "metadata": {},
   "outputs": [
    {
     "name": "stdout",
     "output_type": "stream",
     "text": [
      "            Date  June Temps\n",
      "0     2010-06-01        78.0\n",
      "1     2010-06-02        76.0\n",
      "2     2010-06-03        78.0\n",
      "3     2010-06-04        76.0\n",
      "4     2010-06-05        77.0\n",
      "...          ...         ...\n",
      "1695  2017-06-26        79.0\n",
      "1696  2017-06-27        74.0\n",
      "1697  2017-06-28        74.0\n",
      "1698  2017-06-29        76.0\n",
      "1699  2017-06-30        75.0\n",
      "\n",
      "[1700 rows x 2 columns]\n"
     ]
    }
   ],
   "source": [
    "# 4. Create a DataFrame from the list of temperatures for the month of June. \n",
    "june_df = pd.DataFrame(june_results, columns=['Date','June Temps'])\n",
    "\n",
    "print(june_df)"
   ]
  },
  {
   "cell_type": "code",
   "execution_count": 7,
   "metadata": {},
   "outputs": [
    {
     "data": {
      "text/html": [
       "<div>\n",
       "<style scoped>\n",
       "    .dataframe tbody tr th:only-of-type {\n",
       "        vertical-align: middle;\n",
       "    }\n",
       "\n",
       "    .dataframe tbody tr th {\n",
       "        vertical-align: top;\n",
       "    }\n",
       "\n",
       "    .dataframe thead th {\n",
       "        text-align: right;\n",
       "    }\n",
       "</style>\n",
       "<table border=\"1\" class=\"dataframe\">\n",
       "  <thead>\n",
       "    <tr style=\"text-align: right;\">\n",
       "      <th></th>\n",
       "      <th>June Temps</th>\n",
       "    </tr>\n",
       "  </thead>\n",
       "  <tbody>\n",
       "    <tr>\n",
       "      <th>count</th>\n",
       "      <td>1700.000000</td>\n",
       "    </tr>\n",
       "    <tr>\n",
       "      <th>mean</th>\n",
       "      <td>74.944118</td>\n",
       "    </tr>\n",
       "    <tr>\n",
       "      <th>std</th>\n",
       "      <td>3.257417</td>\n",
       "    </tr>\n",
       "    <tr>\n",
       "      <th>min</th>\n",
       "      <td>64.000000</td>\n",
       "    </tr>\n",
       "    <tr>\n",
       "      <th>25%</th>\n",
       "      <td>73.000000</td>\n",
       "    </tr>\n",
       "    <tr>\n",
       "      <th>50%</th>\n",
       "      <td>75.000000</td>\n",
       "    </tr>\n",
       "    <tr>\n",
       "      <th>75%</th>\n",
       "      <td>77.000000</td>\n",
       "    </tr>\n",
       "    <tr>\n",
       "      <th>max</th>\n",
       "      <td>85.000000</td>\n",
       "    </tr>\n",
       "  </tbody>\n",
       "</table>\n",
       "</div>"
      ],
      "text/plain": [
       "        June Temps\n",
       "count  1700.000000\n",
       "mean     74.944118\n",
       "std       3.257417\n",
       "min      64.000000\n",
       "25%      73.000000\n",
       "50%      75.000000\n",
       "75%      77.000000\n",
       "max      85.000000"
      ]
     },
     "execution_count": 7,
     "metadata": {},
     "output_type": "execute_result"
    }
   ],
   "source": [
    "# 5. Calculate and print out the summary statistics for the June temperature DataFrame.\n",
    "june_df.describe()"
   ]
  },
  {
   "cell_type": "markdown",
   "metadata": {},
   "source": [
    "## D2: Determine the Summary Statistics for December"
   ]
  },
  {
   "cell_type": "code",
   "execution_count": 8,
   "metadata": {},
   "outputs": [],
   "source": [
    "# 6. Write a query that filters the Measurement table to retrieve the temperatures for the month of December.\n",
    "dec_results = session.query(Measurement.date, Measurement.tobs).filter(extract('month', Measurement.date) == '12')"
   ]
  },
  {
   "cell_type": "code",
   "execution_count": 9,
   "metadata": {},
   "outputs": [],
   "source": [
    "# 7. Convert the December temperatures to a list.\n",
    "dec_date = [result[0] for result in dec_results]\n",
    "dec_temp = [result[1] for result in dec_results]\n",
    "#print(dec_temp)"
   ]
  },
  {
   "cell_type": "code",
   "execution_count": 10,
   "metadata": {},
   "outputs": [
    {
     "name": "stdout",
     "output_type": "stream",
     "text": [
      "            Date  December Temps\n",
      "0     2010-12-01            76.0\n",
      "1     2010-12-03            74.0\n",
      "2     2010-12-04            74.0\n",
      "3     2010-12-06            64.0\n",
      "4     2010-12-07            64.0\n",
      "...          ...             ...\n",
      "1512  2016-12-27            71.0\n",
      "1513  2016-12-28            71.0\n",
      "1514  2016-12-29            69.0\n",
      "1515  2016-12-30            65.0\n",
      "1516  2016-12-31            65.0\n",
      "\n",
      "[1517 rows x 2 columns]\n"
     ]
    }
   ],
   "source": [
    "# 8. Create a DataFrame from the list of temperatures for the month of December. \n",
    "dec_df = pd.DataFrame(dec_results, columns=['Date','December Temps'])\n",
    "\n",
    "print(dec_df)"
   ]
  },
  {
   "cell_type": "code",
   "execution_count": 11,
   "metadata": {},
   "outputs": [
    {
     "data": {
      "text/html": [
       "<div>\n",
       "<style scoped>\n",
       "    .dataframe tbody tr th:only-of-type {\n",
       "        vertical-align: middle;\n",
       "    }\n",
       "\n",
       "    .dataframe tbody tr th {\n",
       "        vertical-align: top;\n",
       "    }\n",
       "\n",
       "    .dataframe thead th {\n",
       "        text-align: right;\n",
       "    }\n",
       "</style>\n",
       "<table border=\"1\" class=\"dataframe\">\n",
       "  <thead>\n",
       "    <tr style=\"text-align: right;\">\n",
       "      <th></th>\n",
       "      <th>December Temps</th>\n",
       "    </tr>\n",
       "  </thead>\n",
       "  <tbody>\n",
       "    <tr>\n",
       "      <th>count</th>\n",
       "      <td>1517.000000</td>\n",
       "    </tr>\n",
       "    <tr>\n",
       "      <th>mean</th>\n",
       "      <td>71.041529</td>\n",
       "    </tr>\n",
       "    <tr>\n",
       "      <th>std</th>\n",
       "      <td>3.745920</td>\n",
       "    </tr>\n",
       "    <tr>\n",
       "      <th>min</th>\n",
       "      <td>56.000000</td>\n",
       "    </tr>\n",
       "    <tr>\n",
       "      <th>25%</th>\n",
       "      <td>69.000000</td>\n",
       "    </tr>\n",
       "    <tr>\n",
       "      <th>50%</th>\n",
       "      <td>71.000000</td>\n",
       "    </tr>\n",
       "    <tr>\n",
       "      <th>75%</th>\n",
       "      <td>74.000000</td>\n",
       "    </tr>\n",
       "    <tr>\n",
       "      <th>max</th>\n",
       "      <td>83.000000</td>\n",
       "    </tr>\n",
       "  </tbody>\n",
       "</table>\n",
       "</div>"
      ],
      "text/plain": [
       "       December Temps\n",
       "count     1517.000000\n",
       "mean        71.041529\n",
       "std          3.745920\n",
       "min         56.000000\n",
       "25%         69.000000\n",
       "50%         71.000000\n",
       "75%         74.000000\n",
       "max         83.000000"
      ]
     },
     "execution_count": 11,
     "metadata": {},
     "output_type": "execute_result"
    }
   ],
   "source": [
    "# 9. Calculate and print out the summary statistics for the Decemeber temperature DataFrame.\n",
    "dec_df.describe()"
   ]
  },
  {
   "cell_type": "code",
   "execution_count": null,
   "metadata": {},
   "outputs": [],
   "source": [
    "## EXTRA QUERIES ##"
   ]
  },
  {
   "cell_type": "code",
   "execution_count": 12,
   "metadata": {
    "scrolled": true
   },
   "outputs": [
    {
     "name": "stdout",
     "output_type": "stream",
     "text": [
      "            Date  June Temps  June Prcps\n",
      "0     2010-06-01        78.0        0.00\n",
      "1     2010-06-02        76.0        0.01\n",
      "2     2010-06-03        78.0        0.00\n",
      "3     2010-06-04        76.0        0.00\n",
      "4     2010-06-05        77.0        0.00\n",
      "...          ...         ...         ...\n",
      "1695  2017-06-26        79.0        0.02\n",
      "1696  2017-06-27        74.0        0.10\n",
      "1697  2017-06-28        74.0        0.02\n",
      "1698  2017-06-29        76.0        0.04\n",
      "1699  2017-06-30        75.0        0.20\n",
      "\n",
      "[1700 rows x 3 columns]\n"
     ]
    }
   ],
   "source": [
    "# Retrieve the precipation for month of June, save into list and add column to june DataFrame.\n",
    "\n",
    "june_prcp_results = session.query(Measurement.prcp).filter(extract('month', Measurement.date) == '6')\n",
    "june_prcp = [result for result in june_prcp_results]\n",
    "june_df['June Prcps'] = pd.DataFrame(june_prcp_results, columns=['June Prcps'])\n",
    "print(june_df)"
   ]
  },
  {
   "cell_type": "code",
   "execution_count": 13,
   "metadata": {},
   "outputs": [
    {
     "name": "stdout",
     "output_type": "stream",
     "text": [
      "   Date  avg_tmp_june  min_temp_june  max_temp_june\n",
      "0  2010     74.925620           67.0           85.0\n",
      "1  2011     73.938326           65.0           82.0\n",
      "2  2012     74.000000           68.0           81.0\n",
      "3  2013     74.599078           66.0           81.0\n",
      "4  2014     75.027907           67.0           84.0\n",
      "5  2015     74.990148           66.0           81.0\n",
      "6  2016     75.175258           64.0           81.0\n",
      "7  2017     77.219895           71.0           83.0\n"
     ]
    }
   ],
   "source": [
    "# Set index on 'Date' for June DataFrame and diplays the average, minimum and maximum temperatures of June for each year. \n",
    "\n",
    "june_df['Date'] = pd.to_datetime(june_df['Date'])\n",
    "june_df.set_index(june_df['Date'], inplace=True)\n",
    "grouped_multiple_june_temp = june_df.groupby(june_df['Date'].dt.year).agg({'June Temps': ['mean', 'min', 'max']})\n",
    "grouped_multiple_june_temp.columns = ['avg_tmp_june', 'min_temp_june', 'max_temp_june']\n",
    "grouped_multiple_june_temp = grouped_multiple_june_temp.reset_index()\n",
    "print(grouped_multiple_june_temp)"
   ]
  },
  {
   "cell_type": "code",
   "execution_count": 14,
   "metadata": {},
   "outputs": [
    {
     "name": "stdout",
     "output_type": "stream",
     "text": [
      "   Date  avg_prcp_june  min_prcp_june  max_prcp_june\n",
      "0  2010       0.042241            0.0           0.88\n",
      "1  2011       0.240142            0.0           4.43\n",
      "2  2012       0.097062            0.0           1.84\n",
      "3  2013       0.144195            0.0           2.80\n",
      "4  2014       0.124372            0.0           1.45\n",
      "5  2015       0.125160            0.0           2.47\n",
      "6  2016       0.212312            0.0           1.70\n",
      "7  2017       0.120000            0.0           1.69\n"
     ]
    }
   ],
   "source": [
    "# Set index on 'Date' for June DataFrame and diplays the average, minimum and maximum precipitatons of June for each year. \n",
    "\n",
    "june_df['Date'] = pd.to_datetime(june_df['Date'])\n",
    "june_df.set_index(june_df['Date'], inplace=True)\n",
    "grouped_multiple_june_prcp = june_df.groupby(june_df['Date'].dt.year).agg({'June Prcps': ['mean', 'min', 'max']})\n",
    "grouped_multiple_june_prcp.columns = ['avg_prcp_june', 'min_prcp_june', 'max_prcp_june']\n",
    "grouped_multiple_june_prcp = grouped_multiple_june_prcp.reset_index()\n",
    "print(grouped_multiple_june_prcp)"
   ]
  },
  {
   "cell_type": "code",
   "execution_count": 15,
   "metadata": {},
   "outputs": [
    {
     "data": {
      "text/html": [
       "<div>\n",
       "<style scoped>\n",
       "    .dataframe tbody tr th:only-of-type {\n",
       "        vertical-align: middle;\n",
       "    }\n",
       "\n",
       "    .dataframe tbody tr th {\n",
       "        vertical-align: top;\n",
       "    }\n",
       "\n",
       "    .dataframe thead th {\n",
       "        text-align: right;\n",
       "    }\n",
       "</style>\n",
       "<table border=\"1\" class=\"dataframe\">\n",
       "  <thead>\n",
       "    <tr style=\"text-align: right;\">\n",
       "      <th></th>\n",
       "      <th>June Temps</th>\n",
       "      <th>June Prcps</th>\n",
       "    </tr>\n",
       "  </thead>\n",
       "  <tbody>\n",
       "    <tr>\n",
       "      <th>count</th>\n",
       "      <td>1700.000000</td>\n",
       "      <td>1574.000000</td>\n",
       "    </tr>\n",
       "    <tr>\n",
       "      <th>mean</th>\n",
       "      <td>74.944118</td>\n",
       "      <td>0.136360</td>\n",
       "    </tr>\n",
       "    <tr>\n",
       "      <th>std</th>\n",
       "      <td>3.257417</td>\n",
       "      <td>0.335731</td>\n",
       "    </tr>\n",
       "    <tr>\n",
       "      <th>min</th>\n",
       "      <td>64.000000</td>\n",
       "      <td>0.000000</td>\n",
       "    </tr>\n",
       "    <tr>\n",
       "      <th>25%</th>\n",
       "      <td>73.000000</td>\n",
       "      <td>0.000000</td>\n",
       "    </tr>\n",
       "    <tr>\n",
       "      <th>50%</th>\n",
       "      <td>75.000000</td>\n",
       "      <td>0.020000</td>\n",
       "    </tr>\n",
       "    <tr>\n",
       "      <th>75%</th>\n",
       "      <td>77.000000</td>\n",
       "      <td>0.120000</td>\n",
       "    </tr>\n",
       "    <tr>\n",
       "      <th>max</th>\n",
       "      <td>85.000000</td>\n",
       "      <td>4.430000</td>\n",
       "    </tr>\n",
       "  </tbody>\n",
       "</table>\n",
       "</div>"
      ],
      "text/plain": [
       "        June Temps   June Prcps\n",
       "count  1700.000000  1574.000000\n",
       "mean     74.944118     0.136360\n",
       "std       3.257417     0.335731\n",
       "min      64.000000     0.000000\n",
       "25%      73.000000     0.000000\n",
       "50%      75.000000     0.020000\n",
       "75%      77.000000     0.120000\n",
       "max      85.000000     4.430000"
      ]
     },
     "execution_count": 15,
     "metadata": {},
     "output_type": "execute_result"
    }
   ],
   "source": [
    "# Calculate and print out the temperature and precipitation summary statistics for the June DataFrame\n",
    "june_df.describe()"
   ]
  },
  {
   "cell_type": "code",
   "execution_count": 16,
   "metadata": {},
   "outputs": [
    {
     "name": "stdout",
     "output_type": "stream",
     "text": [
      "            Date  December Temps  December Prcps\n",
      "0     2010-12-01            76.0            0.04\n",
      "1     2010-12-03            74.0            0.00\n",
      "2     2010-12-04            74.0            0.00\n",
      "3     2010-12-06            64.0            0.00\n",
      "4     2010-12-07            64.0            0.00\n",
      "...          ...             ...             ...\n",
      "1512  2016-12-27            71.0            0.14\n",
      "1513  2016-12-28            71.0            0.14\n",
      "1514  2016-12-29            69.0            1.03\n",
      "1515  2016-12-30            65.0            2.37\n",
      "1516  2016-12-31            65.0            0.90\n",
      "\n",
      "[1517 rows x 3 columns]\n"
     ]
    }
   ],
   "source": [
    "# Retrieve the precipation for month of December, save into list and add column to December DataFrame.\n",
    "\n",
    "dec_prcp_results = session.query(Measurement.prcp).filter(extract('month', Measurement.date) == '12')\n",
    "dec_prcp = [result for result in dec_prcp_results]\n",
    "dec_df['December Prcps'] = pd.DataFrame(dec_prcp_results, columns=['December Prcps'])\n",
    "print(dec_df)"
   ]
  },
  {
   "cell_type": "code",
   "execution_count": 17,
   "metadata": {},
   "outputs": [
    {
     "name": "stdout",
     "output_type": "stream",
     "text": [
      "   Date  temp_avg_dec  temp_min_dec  temp_max_dec\n",
      "0  2010     70.208511          58.0          80.0\n",
      "1  2011     70.820628          63.0          77.0\n",
      "2  2012     71.188073          61.0          80.0\n",
      "3  2013     71.094017          63.0          83.0\n",
      "4  2014     69.896861          56.0          81.0\n",
      "5  2015     73.423913          65.0          82.0\n",
      "6  2016     71.130000          60.0          78.0\n"
     ]
    }
   ],
   "source": [
    "# Set index on 'Date' for December DataFrame and diplays the average temperature of December for each year. \n",
    "\n",
    "dec_df['Date'] = pd.to_datetime(dec_df['Date'])\n",
    "dec_df.set_index(dec_df['Date'], inplace=True)\n",
    "grouped_multiple_dec_temp = dec_df.groupby(dec_df['Date'].dt.year).agg({'December Temps': ['mean', 'min', 'max']})\n",
    "grouped_multiple_dec_temp.columns = ['temp_avg_dec', 'temp_min_dec', 'temp_max_dec']\n",
    "grouped_multiple_dec_temp = grouped_multiple_dec_temp.reset_index()\n",
    "print(grouped_multiple_dec_temp)"
   ]
  },
  {
   "cell_type": "code",
   "execution_count": 18,
   "metadata": {},
   "outputs": [
    {
     "name": "stdout",
     "output_type": "stream",
     "text": [
      "   Date  prcp_avg_dec  prcp_min_dec  prcp_max_dec\n",
      "0  2010      0.459087           0.0          5.04\n",
      "1  2011      0.201581           0.0          6.42\n",
      "2  2012      0.089604           0.0          2.25\n",
      "3  2013      0.169014           0.0          2.40\n",
      "4  2014      0.188439           0.0          4.03\n",
      "5  2015      0.169506           0.0          2.21\n",
      "6  2016      0.199494           0.0          2.37\n"
     ]
    }
   ],
   "source": [
    "# Set index on 'Date' for June DataFrame and diplays the average, minimum and maximum precipitatons of December for each year. \n",
    "\n",
    "dec_df['Date'] = pd.to_datetime(dec_df['Date'])\n",
    "dec_df.set_index(dec_df['Date'], inplace=True)\n",
    "grouped_multiple_dec_prcp = dec_df.groupby(dec_df['Date'].dt.year).agg({'December Prcps': ['mean', 'min', 'max']})\n",
    "grouped_multiple_dec_prcp.columns = ['prcp_avg_dec', 'prcp_min_dec', 'prcp_max_dec']\n",
    "grouped_multiple_dec_prcp = grouped_multiple_dec_prcp.reset_index()\n",
    "print(grouped_multiple_dec_prcp)"
   ]
  },
  {
   "cell_type": "code",
   "execution_count": 19,
   "metadata": {},
   "outputs": [
    {
     "data": {
      "text/html": [
       "<div>\n",
       "<style scoped>\n",
       "    .dataframe tbody tr th:only-of-type {\n",
       "        vertical-align: middle;\n",
       "    }\n",
       "\n",
       "    .dataframe tbody tr th {\n",
       "        vertical-align: top;\n",
       "    }\n",
       "\n",
       "    .dataframe thead th {\n",
       "        text-align: right;\n",
       "    }\n",
       "</style>\n",
       "<table border=\"1\" class=\"dataframe\">\n",
       "  <thead>\n",
       "    <tr style=\"text-align: right;\">\n",
       "      <th></th>\n",
       "      <th>December Temps</th>\n",
       "      <th>December Prcps</th>\n",
       "    </tr>\n",
       "  </thead>\n",
       "  <tbody>\n",
       "    <tr>\n",
       "      <th>count</th>\n",
       "      <td>1517.000000</td>\n",
       "      <td>1405.000000</td>\n",
       "    </tr>\n",
       "    <tr>\n",
       "      <th>mean</th>\n",
       "      <td>71.041529</td>\n",
       "      <td>0.216819</td>\n",
       "    </tr>\n",
       "    <tr>\n",
       "      <th>std</th>\n",
       "      <td>3.745920</td>\n",
       "      <td>0.541399</td>\n",
       "    </tr>\n",
       "    <tr>\n",
       "      <th>min</th>\n",
       "      <td>56.000000</td>\n",
       "      <td>0.000000</td>\n",
       "    </tr>\n",
       "    <tr>\n",
       "      <th>25%</th>\n",
       "      <td>69.000000</td>\n",
       "      <td>0.000000</td>\n",
       "    </tr>\n",
       "    <tr>\n",
       "      <th>50%</th>\n",
       "      <td>71.000000</td>\n",
       "      <td>0.030000</td>\n",
       "    </tr>\n",
       "    <tr>\n",
       "      <th>75%</th>\n",
       "      <td>74.000000</td>\n",
       "      <td>0.150000</td>\n",
       "    </tr>\n",
       "    <tr>\n",
       "      <th>max</th>\n",
       "      <td>83.000000</td>\n",
       "      <td>6.420000</td>\n",
       "    </tr>\n",
       "  </tbody>\n",
       "</table>\n",
       "</div>"
      ],
      "text/plain": [
       "       December Temps  December Prcps\n",
       "count     1517.000000     1405.000000\n",
       "mean        71.041529        0.216819\n",
       "std          3.745920        0.541399\n",
       "min         56.000000        0.000000\n",
       "25%         69.000000        0.000000\n",
       "50%         71.000000        0.030000\n",
       "75%         74.000000        0.150000\n",
       "max         83.000000        6.420000"
      ]
     },
     "execution_count": 19,
     "metadata": {},
     "output_type": "execute_result"
    }
   ],
   "source": [
    "# Calculate and print out the temperature and precipitation summary statistics for the June DataFrame\n",
    "dec_df.describe()"
   ]
  },
  {
   "cell_type": "code",
   "execution_count": 20,
   "metadata": {
    "scrolled": true
   },
   "outputs": [
    {
     "data": {
      "text/html": [
       "<div>\n",
       "<style scoped>\n",
       "    .dataframe tbody tr th:only-of-type {\n",
       "        vertical-align: middle;\n",
       "    }\n",
       "\n",
       "    .dataframe tbody tr th {\n",
       "        vertical-align: top;\n",
       "    }\n",
       "\n",
       "    .dataframe thead th {\n",
       "        text-align: right;\n",
       "    }\n",
       "</style>\n",
       "<table border=\"1\" class=\"dataframe\">\n",
       "  <thead>\n",
       "    <tr style=\"text-align: right;\">\n",
       "      <th></th>\n",
       "      <th>Date</th>\n",
       "      <th>Station</th>\n",
       "      <th>Temperatures</th>\n",
       "      <th>Precipitation</th>\n",
       "    </tr>\n",
       "  </thead>\n",
       "  <tbody>\n",
       "    <tr>\n",
       "      <th>0</th>\n",
       "      <td>2010-06-01</td>\n",
       "      <td>USC00519397</td>\n",
       "      <td>78.0</td>\n",
       "      <td>0.00</td>\n",
       "    </tr>\n",
       "    <tr>\n",
       "      <th>1</th>\n",
       "      <td>2010-06-02</td>\n",
       "      <td>USC00519397</td>\n",
       "      <td>76.0</td>\n",
       "      <td>0.01</td>\n",
       "    </tr>\n",
       "    <tr>\n",
       "      <th>2</th>\n",
       "      <td>2010-06-03</td>\n",
       "      <td>USC00519397</td>\n",
       "      <td>78.0</td>\n",
       "      <td>0.00</td>\n",
       "    </tr>\n",
       "    <tr>\n",
       "      <th>3</th>\n",
       "      <td>2010-06-04</td>\n",
       "      <td>USC00519397</td>\n",
       "      <td>76.0</td>\n",
       "      <td>0.00</td>\n",
       "    </tr>\n",
       "    <tr>\n",
       "      <th>4</th>\n",
       "      <td>2010-06-05</td>\n",
       "      <td>USC00519397</td>\n",
       "      <td>77.0</td>\n",
       "      <td>0.00</td>\n",
       "    </tr>\n",
       "    <tr>\n",
       "      <th>...</th>\n",
       "      <td>...</td>\n",
       "      <td>...</td>\n",
       "      <td>...</td>\n",
       "      <td>...</td>\n",
       "    </tr>\n",
       "    <tr>\n",
       "      <th>1695</th>\n",
       "      <td>2017-06-26</td>\n",
       "      <td>USC00516128</td>\n",
       "      <td>79.0</td>\n",
       "      <td>0.02</td>\n",
       "    </tr>\n",
       "    <tr>\n",
       "      <th>1696</th>\n",
       "      <td>2017-06-27</td>\n",
       "      <td>USC00516128</td>\n",
       "      <td>74.0</td>\n",
       "      <td>0.10</td>\n",
       "    </tr>\n",
       "    <tr>\n",
       "      <th>1697</th>\n",
       "      <td>2017-06-28</td>\n",
       "      <td>USC00516128</td>\n",
       "      <td>74.0</td>\n",
       "      <td>0.02</td>\n",
       "    </tr>\n",
       "    <tr>\n",
       "      <th>1698</th>\n",
       "      <td>2017-06-29</td>\n",
       "      <td>USC00516128</td>\n",
       "      <td>76.0</td>\n",
       "      <td>0.04</td>\n",
       "    </tr>\n",
       "    <tr>\n",
       "      <th>1699</th>\n",
       "      <td>2017-06-30</td>\n",
       "      <td>USC00516128</td>\n",
       "      <td>75.0</td>\n",
       "      <td>0.20</td>\n",
       "    </tr>\n",
       "  </tbody>\n",
       "</table>\n",
       "<p>1700 rows × 4 columns</p>\n",
       "</div>"
      ],
      "text/plain": [
       "            Date      Station  Temperatures  Precipitation\n",
       "0     2010-06-01  USC00519397          78.0           0.00\n",
       "1     2010-06-02  USC00519397          76.0           0.01\n",
       "2     2010-06-03  USC00519397          78.0           0.00\n",
       "3     2010-06-04  USC00519397          76.0           0.00\n",
       "4     2010-06-05  USC00519397          77.0           0.00\n",
       "...          ...          ...           ...            ...\n",
       "1695  2017-06-26  USC00516128          79.0           0.02\n",
       "1696  2017-06-27  USC00516128          74.0           0.10\n",
       "1697  2017-06-28  USC00516128          74.0           0.02\n",
       "1698  2017-06-29  USC00516128          76.0           0.04\n",
       "1699  2017-06-30  USC00516128          75.0           0.20\n",
       "\n",
       "[1700 rows x 4 columns]"
      ]
     },
     "execution_count": 20,
     "metadata": {},
     "output_type": "execute_result"
    }
   ],
   "source": [
    "# Retrieve the stations for month of June, save into list and create a DataFrame.\n",
    "\n",
    "s_june_results = session.query(Measurement.date, Measurement.station, Measurement.tobs, Measurement.prcp).filter(extract('month', Measurement.date) == '6')\n",
    "\n",
    "\n",
    "temp_june_df = pd.DataFrame(s_june_results, columns=['Date','Station', 'Temperatures','Precipitation'])\n",
    "temp_june_df\n"
   ]
  },
  {
   "cell_type": "code",
   "execution_count": null,
   "metadata": {},
   "outputs": [],
   "source": []
  },
  {
   "cell_type": "code",
   "execution_count": 21,
   "metadata": {},
   "outputs": [
    {
     "name": "stdout",
     "output_type": "stream",
     "text": [
      "             min_temp_june  mean_temp_june  max_temp_june\n",
      "Station                                                  \n",
      "USC00511918           66.0       74.139394           85.0\n",
      "USC00513117           68.0       74.050847           83.0\n",
      "USC00514830           67.0       76.005376           81.0\n",
      "USC00516128           66.0       71.937220           79.0\n",
      "USC00517948           64.0       76.655405           82.0\n",
      "USC00518838           67.0       73.394737           78.0\n",
      "USC00519281           65.0       73.271186           82.0\n",
      "USC00519397           70.0       77.559322           84.0\n",
      "USC00519523           71.0       76.668103           82.0\n"
     ]
    }
   ],
   "source": [
    "# Calculate the minimum, average, maximum temperatures for each station for June throuout the years. \n",
    "\n",
    "stationdata_june_df = temp_june_df.groupby(temp_june_df['Station']) \\\n",
    "                            .agg(min_temp_june = ('Temperatures', 'min'), \\\n",
    "                                 mean_temp_june = ('Temperatures', 'mean'),\n",
    "                                 max_temp_june = ('Temperatures', 'max'))\n",
    "\n",
    "print(stationdata_june_df)"
   ]
  },
  {
   "cell_type": "code",
   "execution_count": 22,
   "metadata": {
    "scrolled": true
   },
   "outputs": [
    {
     "name": "stdout",
     "output_type": "stream",
     "text": [
      "             min_prcp_june  mean_prcp_june  max_prcp_june\n",
      "Station                                                  \n",
      "USC00511918            0.0        0.015157           0.58\n",
      "USC00513117            0.0        0.118248           4.43\n",
      "USC00514830            0.0        0.114192           3.60\n",
      "USC00516128            0.0        0.495748           2.80\n",
      "USC00517948            0.0        0.057975           1.71\n",
      "USC00518838            0.0        0.094615           0.82\n",
      "USC00519281            0.0        0.151525           1.39\n",
      "USC00519397            0.0        0.022661           0.89\n",
      "USC00519523            0.0        0.050044           0.51\n"
     ]
    }
   ],
   "source": [
    "# Calculate the minimum, average, maximum precipitation for each station for June throuout the years.\n",
    "\n",
    "stationdata_june_df = temp_june_df.groupby(temp_june_df['Station']) \\\n",
    "                            .agg(min_prcp_june = ('Precipitation', 'min'), \\\n",
    "                                 mean_prcp_june = ('Precipitation', 'mean'),\n",
    "                                 max_prcp_june = ('Precipitation', 'max'))\n",
    "\n",
    "print(stationdata_june_df)"
   ]
  },
  {
   "cell_type": "code",
   "execution_count": 23,
   "metadata": {},
   "outputs": [
    {
     "data": {
      "text/html": [
       "<div>\n",
       "<style scoped>\n",
       "    .dataframe tbody tr th:only-of-type {\n",
       "        vertical-align: middle;\n",
       "    }\n",
       "\n",
       "    .dataframe tbody tr th {\n",
       "        vertical-align: top;\n",
       "    }\n",
       "\n",
       "    .dataframe thead th {\n",
       "        text-align: right;\n",
       "    }\n",
       "</style>\n",
       "<table border=\"1\" class=\"dataframe\">\n",
       "  <thead>\n",
       "    <tr style=\"text-align: right;\">\n",
       "      <th></th>\n",
       "      <th>Date</th>\n",
       "      <th>Station</th>\n",
       "      <th>Temperatures</th>\n",
       "      <th>Precipitation</th>\n",
       "    </tr>\n",
       "  </thead>\n",
       "  <tbody>\n",
       "    <tr>\n",
       "      <th>0</th>\n",
       "      <td>2010-12-01</td>\n",
       "      <td>USC00519397</td>\n",
       "      <td>76.0</td>\n",
       "      <td>0.04</td>\n",
       "    </tr>\n",
       "    <tr>\n",
       "      <th>1</th>\n",
       "      <td>2010-12-03</td>\n",
       "      <td>USC00519397</td>\n",
       "      <td>74.0</td>\n",
       "      <td>0.00</td>\n",
       "    </tr>\n",
       "    <tr>\n",
       "      <th>2</th>\n",
       "      <td>2010-12-04</td>\n",
       "      <td>USC00519397</td>\n",
       "      <td>74.0</td>\n",
       "      <td>0.00</td>\n",
       "    </tr>\n",
       "    <tr>\n",
       "      <th>3</th>\n",
       "      <td>2010-12-06</td>\n",
       "      <td>USC00519397</td>\n",
       "      <td>64.0</td>\n",
       "      <td>0.00</td>\n",
       "    </tr>\n",
       "    <tr>\n",
       "      <th>4</th>\n",
       "      <td>2010-12-07</td>\n",
       "      <td>USC00519397</td>\n",
       "      <td>64.0</td>\n",
       "      <td>0.00</td>\n",
       "    </tr>\n",
       "    <tr>\n",
       "      <th>...</th>\n",
       "      <td>...</td>\n",
       "      <td>...</td>\n",
       "      <td>...</td>\n",
       "      <td>...</td>\n",
       "    </tr>\n",
       "    <tr>\n",
       "      <th>1512</th>\n",
       "      <td>2016-12-27</td>\n",
       "      <td>USC00516128</td>\n",
       "      <td>71.0</td>\n",
       "      <td>0.14</td>\n",
       "    </tr>\n",
       "    <tr>\n",
       "      <th>1513</th>\n",
       "      <td>2016-12-28</td>\n",
       "      <td>USC00516128</td>\n",
       "      <td>71.0</td>\n",
       "      <td>0.14</td>\n",
       "    </tr>\n",
       "    <tr>\n",
       "      <th>1514</th>\n",
       "      <td>2016-12-29</td>\n",
       "      <td>USC00516128</td>\n",
       "      <td>69.0</td>\n",
       "      <td>1.03</td>\n",
       "    </tr>\n",
       "    <tr>\n",
       "      <th>1515</th>\n",
       "      <td>2016-12-30</td>\n",
       "      <td>USC00516128</td>\n",
       "      <td>65.0</td>\n",
       "      <td>2.37</td>\n",
       "    </tr>\n",
       "    <tr>\n",
       "      <th>1516</th>\n",
       "      <td>2016-12-31</td>\n",
       "      <td>USC00516128</td>\n",
       "      <td>65.0</td>\n",
       "      <td>0.90</td>\n",
       "    </tr>\n",
       "  </tbody>\n",
       "</table>\n",
       "<p>1517 rows × 4 columns</p>\n",
       "</div>"
      ],
      "text/plain": [
       "            Date      Station  Temperatures  Precipitation\n",
       "0     2010-12-01  USC00519397          76.0           0.04\n",
       "1     2010-12-03  USC00519397          74.0           0.00\n",
       "2     2010-12-04  USC00519397          74.0           0.00\n",
       "3     2010-12-06  USC00519397          64.0           0.00\n",
       "4     2010-12-07  USC00519397          64.0           0.00\n",
       "...          ...          ...           ...            ...\n",
       "1512  2016-12-27  USC00516128          71.0           0.14\n",
       "1513  2016-12-28  USC00516128          71.0           0.14\n",
       "1514  2016-12-29  USC00516128          69.0           1.03\n",
       "1515  2016-12-30  USC00516128          65.0           2.37\n",
       "1516  2016-12-31  USC00516128          65.0           0.90\n",
       "\n",
       "[1517 rows x 4 columns]"
      ]
     },
     "execution_count": 23,
     "metadata": {},
     "output_type": "execute_result"
    }
   ],
   "source": [
    "# Retrieve the stations for month of December, save into list and create a DataFrame.\n",
    "\n",
    "s_dec_results = session.query(Measurement.date,Measurement.station, Measurement.tobs, Measurement.prcp).filter(extract('month', Measurement.date) == '12')\n",
    "temp_dec_df = pd.DataFrame(s_dec_results, columns=['Date','Station', 'Temperatures','Precipitation'])\n",
    "temp_dec_df"
   ]
  },
  {
   "cell_type": "code",
   "execution_count": 24,
   "metadata": {},
   "outputs": [
    {
     "name": "stdout",
     "output_type": "stream",
     "text": [
      "             min_temp_dec  mean_temp_dec  max_temp_dec\n",
      "Station                                               \n",
      "USC00511918          57.0      69.684211          81.0\n",
      "USC00513117          63.0      71.069444          80.0\n",
      "USC00514830          62.0      73.224719          79.0\n",
      "USC00516128          60.0      69.291262          83.0\n",
      "USC00517948          64.0      71.834862          82.0\n",
      "USC00518838          63.0      72.421053          78.0\n",
      "USC00519281          58.0      69.903226          79.0\n",
      "USC00519397          56.0      71.109524          77.0\n",
      "USC00519523          56.0      72.433333          79.0\n"
     ]
    }
   ],
   "source": [
    "#Calculate the minimum, average, maximum temperatures for each station for December throuout the years. \n",
    "\n",
    "stationdata_dec_df = temp_dec_df.groupby(temp_dec_df['Station']) \\\n",
    "                            .agg(min_temp_dec = ('Temperatures', 'min'), \\\n",
    "                                 mean_temp_dec = ('Temperatures', 'mean'),\n",
    "                                 max_temp_dec = ('Temperatures', 'max'))\n",
    "\n",
    "print(stationdata_dec_df)"
   ]
  },
  {
   "cell_type": "code",
   "execution_count": 25,
   "metadata": {},
   "outputs": [
    {
     "name": "stdout",
     "output_type": "stream",
     "text": [
      "             min_prcp_dec  mean_prcp_dec  max_prcp_dec\n",
      "Station                                               \n",
      "USC00511918          0.00       0.138146          4.00\n",
      "USC00513117          0.00       0.203241          4.94\n",
      "USC00514830          0.00       0.154966          2.55\n",
      "USC00516128          0.00       0.507005          6.42\n",
      "USC00517948          0.00       0.152727          2.80\n",
      "USC00518838          0.02       0.638182          2.50\n",
      "USC00519281          0.00       0.244931          3.14\n",
      "USC00519397          0.00       0.075314          2.01\n",
      "USC00519523          0.00       0.162010          4.95\n"
     ]
    }
   ],
   "source": [
    "#Calculate the minimum, average, maximum precipitations for each station for December throuout the years. \n",
    "\n",
    "\n",
    "stationdata_dec_df = temp_dec_df.groupby(temp_dec_df['Station']) \\\n",
    "                            .agg(min_prcp_dec = ('Precipitation', 'min'), \\\n",
    "                                 mean_prcp_dec = ('Precipitation', 'mean'),\n",
    "                                 max_prcp_dec = ('Precipitation', 'max'))\n",
    "\n",
    "print(stationdata_dec_df)"
   ]
  }
 ],
 "metadata": {
  "kernelspec": {
   "display_name": "PythonData",
   "language": "python",
   "name": "pythondata"
  },
  "language_info": {
   "codemirror_mode": {
    "name": "ipython",
    "version": 3
   },
   "file_extension": ".py",
   "mimetype": "text/x-python",
   "name": "python",
   "nbconvert_exporter": "python",
   "pygments_lexer": "ipython3",
   "version": "3.7.13"
  }
 },
 "nbformat": 4,
 "nbformat_minor": 2
}
